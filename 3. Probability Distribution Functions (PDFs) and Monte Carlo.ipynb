{
 "cells": [
  {
   "cell_type": "code",
   "execution_count": 1,
   "metadata": {
    "collapsed": true
   },
   "outputs": [],
   "source": [
    "import matplotlib.pyplot as plt\n",
    "import numpy as np\n",
    "%matplotlib inline"
   ]
  },
  {
   "cell_type": "code",
   "execution_count": 2,
   "metadata": {
    "collapsed": true
   },
   "outputs": [],
   "source": [
    "def tau(u):\n",
    "    return -np.log(1-u)\n",
    "\n",
    "def mu(u):\n",
    "    return 2*u-1\n",
    "\n",
    "def phi(u):\n",
    "    return 2*np.pi*u"
   ]
  },
  {
   "cell_type": "code",
   "execution_count": 7,
   "metadata": {
    "collapsed": true
   },
   "outputs": [],
   "source": [
    "def intensity(exited, N_mu=20):\n",
    "    N_0 = exited.size\n",
    "    bin_size, intensities, thetas = np.empty(20), np.empty(20), np.empty(20)\n",
    "    intervals = np.linspace(0,1,21)\n",
    "    \n",
    "    for i in range(N_mu):\n",
    "        mask = (exited < intervals[i+1]) & (exited > intervals[i])\n",
    "        \n",
    "        bin_size[i] = exited[mask].size #number of points in bin\n",
    "        \n",
    "        N_i = bin_size[i]\n",
    "        mu_i = (intervals[i+1] - intervals[i])/2 + intervals[i]\n",
    "        \n",
    "        intensities[i] = N_i/2/N_mu/mu_i #intensity\n",
    "        thetas[i] = np.arccos(mu_i) #exit angle\n",
    "        \n",
    "    return bin_size, intensities, thetas\n",
    "\n",
    "def RT(m, p, z_max=1, tau_max=10, prob=1, nsteps=100, bins=20, animate=False, verbose=False):\n",
    "    x, y, z = np.zeros(*m.shape), np.zeros(*m.shape), np.zeros(*m.shape)\n",
    "    mu_exited = np.empty(0)\n",
    "    \n",
    "    if animation:\n",
    "        frames = []\n",
    "        fig = plt.figure(figsize=(8,8))\n",
    "        plt.set_cmap('nipy_spectral')\n",
    "\n",
    "    for i in range(nsteps):\n",
    "        t = tau(np.random.rand(*m.shape))\n",
    "        L = t*z_max/tau_max\n",
    "        theta = np.arccos(m)\n",
    "        \n",
    "        x = x + L*np.sin(theta)*np.cos(p)\n",
    "        y = y + L*np.sin(theta)*np.sin(p)\n",
    "        z = z + L*np.cos(theta)\n",
    "        \n",
    "        if animate:\n",
    "            imgplot = plt.scatter(y, z),\n",
    "            frames.append(imgplot)\n",
    "        \n",
    "        exited_mask = z > z_max\n",
    "        if np.sum(exited_mask) > 0: mu_exited = np.append(mu_exited, m[exited_mask])\n",
    "        \n",
    "        dead_mask = np.random.rand(*m.shape) <= prob\n",
    "        dead_mask |= exited_mask \n",
    "        dead_mask |= z < 0\n",
    "        \n",
    "        x[dead_mask] = 0\n",
    "        y[dead_mask] = 0\n",
    "        z[dead_mask] = 0\n",
    "        \n",
    "        m, p = mu(np.random.rand(*m.shape)), phi(np.random.rand(*m.shape))\n",
    "    \n",
    "    if animate:\n",
    "        ani = animation.ArtistAnimation(fig, frames, interval=300)\n",
    "        ani.save('animation.mp4')\n",
    "        plt.show()\n",
    "        \n",
    "    if verbose:\n",
    "        plt.hist(mu_exited, color=\"#ffb759\", ec='black', bins=50)\n",
    "        plt.show()\n",
    "\n",
    "    return mu_exited\n",
    "\n",
    "def RT_optimized(m, p, z_max=1, tau_max=10, prob=1, nsteps=100, bins=20, verbose=False):\n",
    "    z = np.zeros(*m.shape)\n",
    "    mu_exited = np.empty(0)\n",
    "\n",
    "    for i in range(nsteps):\n",
    "        t = tau(np.random.rand(*m.shape))\n",
    "        L = t*z_max/tau_max\n",
    "        theta = np.arccos(m)\n",
    "        z = z + L*np.cos(theta)\n",
    "\n",
    "        exited_mask = z > z_max\n",
    "        if np.sum(exited_mask) > 0: mu_exited = np.append(mu_exited, m[exited_mask])\n",
    "        \n",
    "        dead_mask = np.random.rand(*m.shape) <= 1-prob\n",
    "        dead_mask |= exited_mask \n",
    "        dead_mask |= z < 0\n",
    "        \n",
    "        z[dead_mask] = 0\n",
    "        \n",
    "        m, p = mu(np.random.rand(*m.shape)), phi(np.random.rand(*m.shape))\n",
    "        \n",
    "    if verbose:\n",
    "        %matplotlib inline\n",
    "        plt.hist(mu_exited, color=\"#ffb759\", ec='black', bins=50)\n",
    "        plt.show()\n",
    "\n",
    "    return mu_exited"
   ]
  },
  {
   "cell_type": "code",
   "execution_count": 16,
   "metadata": {},
   "outputs": [
    {
     "data": {
      "image/png": "[encoded data removed]",
      "text/plain": [
       "<matplotlib.figure.Figure at 0x1d1190c1668>"
      ]
     },
     "metadata": {},
     "output_type": "display_data"
    }
   ],
   "source": [
    "%matplotlib inline\n",
    "u = np.random.rand(10**6)\n",
    "\n",
    "fig, ax = plt.subplots(1,3, figsize=(25,5))\n",
    "ax[0].set_title('Tau for $10^6$ Uniformly Distributed Points', fontsize=20)\n",
    "ax[0].hist(tau(u), color=\"#ffb759\", ec='black', bins=50, normed=True)\n",
    "ax[0].set_ylabel('Tau(x)', fontsize=20)\n",
    "ax[0].set_xlabel('x', fontsize=20)\n",
    "\n",
    "ax[1].hist(mu(u), color=\"#ffb759\", ec='black', bins=50, normed=True)\n",
    "ax[1].set_xlabel('x', fontsize=20)\n",
    "ax[1].set_ylabel('$\\mu(x)$', fontsize=20)\n",
    "ax[1].set_title('$\\mu$ for $10^6$ Uniformly Distributed Points', fontsize=20)\n",
    "\n",
    "ax[2].hist(phi(u), color=\"#ffb759\", ec='black', bins=50, normed=True)\n",
    "ax[2].set_xlabel('x', fontsize=20)\n",
    "ax[2].set_ylabel('$\\phi(x)$', fontsize=20)\n",
    "ax[2].set_title('$\\phi$ for $10^6$ Uniformly Distributed Points', fontsize=20);\n"
   ]
  },
  {
   "cell_type": "code",
   "execution_count": 8,
   "metadata": {},
   "outputs": [
    {
     "data": {
      "image/png": "[encoded data removed]",
      "text/plain": [
       "<matplotlib.figure.Figure at 0x1d112880080>"
      ]
     },
     "metadata": {},
     "output_type": "display_data"
    }
   ],
   "source": [
    "n_particles = 10**6\n",
    "m, p = mu(np.random.rand(n_particles)), phi(np.random.rand(n_particles))\n",
    "exited = RT_optimized(m, p, verbose=True)"
   ]
  },
  {
   "cell_type": "code",
   "execution_count": 19,
   "metadata": {},
   "outputs": [
    {
     "data": {
      "image/png": "[encoded data removed]",
      "text/plain": [
       "<matplotlib.figure.Figure at 0x1d117ead748>"
      ]
     },
     "metadata": {},
     "output_type": "display_data"
    }
   ],
   "source": [
    "n_particles = 5*10**6\n",
    "m, p = mu(np.random.rand(n_particles)), phi(np.random.rand(n_particles))\n",
    "exited = RT_optimized(m, p, prob=0.5, verbose=True)"
   ]
  },
  {
   "cell_type": "code",
   "execution_count": null,
   "metadata": {
    "collapsed": true
   },
   "outputs": [],
   "source": [
    "# This will take approx. 30 mins to run on an i7-6700HQ with 16 GB of ram.\n",
    "# If you have less than 9 GB of ram free on your system before running this,\n",
    "# be extremely wary of runtime since your computer may start swapping.\n",
    "%matplotlib inline\n",
    "IwantToWaitAWhile = False\n",
    "if IwantToWaitAWhile:\n",
    "    n_particles = 10**8\n",
    "    m, p = mu(np.random.rand(n_particles)), phi(np.random.rand(n_particles))\n",
    "    exited = RT_optimized(m, p, verbose=True)\n",
    "    np.savetxt(\"exited-prob=1.txt\", exited)"
   ]
  },
  {
   "cell_type": "code",
   "execution_count": null,
   "metadata": {
    "collapsed": true
   },
   "outputs": [],
   "source": [
    "# This will take approx. 30 mins to run on an i7-6700HQ with 16 GB of ram.\n",
    "# If you have less than 8 GB of ram free on your system before running this,\n",
    "# be extremely wary of runtime since your computer may start swapping.\n",
    "%matplotlib inline\n",
    "IwantToWaitAWhile = False\n",
    "if IwantToWaitAWhile:\n",
    "    m, p = mu(np.random.rand(n_particles)), phi(np.random.rand(n_particles))\n",
    "    exited = RT_optimized(m, p, prob=0.5, verbose=True)\n",
    "    np.savetxt(\"exited-prob=0.5.txt\", exited)"
   ]
  },
  {
   "cell_type": "code",
   "execution_count": null,
   "metadata": {
    "collapsed": true
   },
   "outputs": [],
   "source": [
    "# Even loading the files will take several minutes\n",
    "# due to the size of the files (especially prob=1)\n",
    "# Be wary if your computer doesn't have ~1gb of ram available\n",
    "IwantToWaitAWhile = False\n",
    "if IwantToWaitAWhile:\n",
    "    exited_prob_1 = np.loadtxt(\"exited-prob=1.txt\")\n",
    "    exited_prob_half = np.loadtxt(\"exited-prob=0.5.txt\")"
   ]
  },
  {
   "cell_type": "code",
   "execution_count": null,
   "metadata": {
    "collapsed": true
   },
   "outputs": [],
   "source": [
    "%matplotlib inline\n",
    "bin_size, intensities, thetas = intensity(exited_prob_1)\n",
    "thetas = thetas*180/np.pi # Convert from radians to degrees for comparison\n",
    "theoretical = theoretical_intensity(thetas) # Will normalize to get same normalization constants\n",
    "\n",
    "#**********Plotting**********\n",
    "fig, ax = plt.subplots()\n",
    "width = 1\n",
    "ax.bar(thetas, theoretical/np.linalg.norm(theoretical), color='r', width=width, label=\"Theoretical\");\n",
    "ax.bar(thetas+width, intensities/np.linalg.norm(intensities), color='g', width=width, label=\"Actual\");\n",
    "ax.set_ylabel(\"Normalized Intensity\")\n",
    "ax.set_xlabel(\"Exit Angles (degrees)\")\n",
    "ax.set_title(\"Binned Exiting Photons, Absorbtion Probability 0%\")\n",
    "ax.legend();"
   ]
  },
  {
   "cell_type": "code",
   "execution_count": null,
   "metadata": {
    "collapsed": true
   },
   "outputs": [],
   "source": [
    "%matplotlib inline\n",
    "bin_size, intensities, thetas = intensity(exited_prob_half)\n",
    "thetas = thetas*180/np.pi # Convert from radians to degrees for comparison\n",
    "\n",
    "#**********Plotting**********\n",
    "fig, ax = plt.subplots()\n",
    "width = 1\n",
    "ax.bar(thetas, intensities/np.linalg.norm(intensities), color='g', width=2)\n",
    "ax.set_ylabel(\"Normalized Intensity\")\n",
    "ax.set_xlabel(\"Exit Angles (degrees)\")\n",
    "ax.set_title(\"Binned Exiting Photons, Absorbtion Probability 50%\");"
   ]
  }
 ],
 "metadata": {
  "kernelspec": {
   "display_name": "Python 3",
   "language": "python",
   "name": "python3"
  },
  "language_info": {
   "codemirror_mode": {
    "name": "ipython",
    "version": 3
   },
   "file_extension": ".py",
   "mimetype": "text/x-python",
   "name": "python",
   "nbconvert_exporter": "python",
   "pygments_lexer": "ipython3",
   "version": "3.6.3"
  }
 },
 "nbformat": 4,
 "nbformat_minor": 2
}
