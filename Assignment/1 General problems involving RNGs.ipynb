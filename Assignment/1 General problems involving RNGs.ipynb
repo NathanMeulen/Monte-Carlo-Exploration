{
 "cells": [
  {
   "cell_type": "code",
   "execution_count": 3,
   "metadata": {
    "collapsed": true
   },
   "outputs": [],
   "source": [
    "import matplotlib.pyplot as plt\n",
    "import numpy as np\n",
    "import scipy.optimize as root_find\n",
    "%matplotlib inline"
   ]
  },
  {
   "cell_type": "markdown",
   "metadata": {},
   "source": [
    "## 1.1 Birthday Problem"
   ]
  },
  {
   "cell_type": "code",
   "execution_count": 4,
   "metadata": {
    "collapsed": true
   },
   "outputs": [],
   "source": [
    "def equal_any(array):\n",
    "    temp = np.array(array)\n",
    "    for i in range(array.size-1):\n",
    "        temp = np.roll(temp, 1)\n",
    "\n",
    "        if (temp==array).any():\n",
    "            return True\n",
    "    \n",
    "    return False"
   ]
  },
  {
   "cell_type": "code",
   "execution_count": 5,
   "metadata": {},
   "outputs": [
    {
     "name": "stdout",
     "output_type": "stream",
     "text": [
      "The fraction of trials with at least one matching birthday is 0.6973\n"
     ]
    }
   ],
   "source": [
    "# One event is described as having at least one matching pair of birthdays in\n",
    "# a 30 day sample\n",
    "event_counter = 0\n",
    "ntrials = 10000\n",
    "for i in range(ntrials):\n",
    "    days = np.random.choice(365, 30)\n",
    "    event_counter += 1 if equal_any(days) else 0\n",
    "print(\"The fraction of trials with at least one matching birthday is\", event_counter/ntrials)\n"
   ]
  },
  {
   "cell_type": "markdown",
   "metadata": {},
   "source": [
    "The following is equivalent to approximately 71% of the trials having a matching pair. Counter-intuitively, the probability of this occuring is over 50%. This is in fact a well known example of probabilities, and is due to the fact that we're looking for at least 1 pair. The probability of havings a lot of pairs \n",
    "\n",
    "$$P(X\\geq 1)= P(X=1)+P(X=2)+\\ldots$$\n",
    "\n",
    "<center><img src=\"https://upload.wikimedia.org/wikipedia/commons/thumb/e/e7/Birthday_Paradox.svg/1289px-Birthday_Paradox.svg.png\"></center>\n",
    "\n",
    "\n",
    "By Rajkiran g - Own work, CC BY-SA 3.0, https://commons.wikimedia.org/w/index.php?curid=10784025"
   ]
  },
  {
   "cell_type": "code",
   "execution_count": null,
   "metadata": {
    "collapsed": true
   },
   "outputs": [],
   "source": []
  }
 ],
 "metadata": {
  "kernelspec": {
   "display_name": "Python 3",
   "language": "python",
   "name": "python3"
  },
  "language_info": {
   "codemirror_mode": {
    "name": "ipython",
    "version": 3
   },
   "file_extension": ".py",
   "mimetype": "text/x-python",
   "name": "python",
   "nbconvert_exporter": "python",
   "pygments_lexer": "ipython3",
   "version": "3.6.4"
  }
 },
 "nbformat": 4,
 "nbformat_minor": 2
}
